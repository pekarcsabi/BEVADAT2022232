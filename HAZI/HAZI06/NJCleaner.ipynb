{
 "cells": [
  {
   "cell_type": "code",
   "execution_count": 1,
   "metadata": {},
   "outputs": [],
   "source": [
    "import numpy as np\n",
    "import pandas as pd"
   ]
  },
  {
   "cell_type": "code",
   "execution_count": 271,
   "metadata": {},
   "outputs": [],
   "source": [
    "class NJCleaner():\n",
    "\n",
    "    def __init__(self, csv_path:str) -> None:\n",
    "        self.data = pd.read_csv(csv_path)\n",
    "\n",
    "    def order_by_scheduled_time(self) -> pd.DataFrame:\n",
    "        return self.data.sort_values(by=['scheduled_time'])\n",
    "    \n",
    "    def drop_columns_and_nan(self) -> pd.DataFrame:\n",
    "        return self.data.drop(['from', 'to'], axis=1).dropna()\n",
    "    \n",
    "    def convert_date_to_day(self) -> pd.DataFrame:\n",
    "        self.data['day'] = (pd.to_datetime(self.data['date'])).dt.day_name()\n",
    "        return self.data.drop(['date'], axis=1)\n",
    "    \n",
    "    def convert_scheduled_time_to_part_of_the_day(self) -> pd.DataFrame:\n",
    "        self.data['part_of_the_day'] = pd.to_datetime(self.data['scheduled_time']).dt.hour.apply(lambda time: 'early_morning' if time >= 4 and time < 8\n",
    "                                                                            else('morning' if time >= 8 and time < 12\n",
    "                                                                            else('afternoon' if time >= 12 and time < 16\n",
    "                                                                            else('evening' if time >= 16 and time < 20\n",
    "                                                                            else('night' if time >= 20 and time < 24\n",
    "                                                                            else('late_night'))))))\n",
    "        \n",
    "        colum = self.data.drop(columns=['scheduled_time'])\n",
    "        self.data = colum\n",
    "        return self.data\n",
    "          \n",
    "    def convert_delay(self) ->pd.DataFrame:\n",
    "        self.data['delay'] = self.data['delay_minutes'].apply(lambda x: 0 if x >= 0 and x < 5\n",
    "                                                              else(1))\n",
    "        return self.data\n",
    "    \n",
    "    def drop_unnecessary_columns(self) -> pd.DataFrame:\n",
    "        return self.data.drop(columns=['train_id', 'actual_time', 'delay_minutes'])\n",
    "    \n",
    "    def save_first_60k(self,path:str) -> None:\n",
    "        self.data.head(60000).to_csv(path)\n",
    "        \n",
    "    def prep_df(self, path:str = 'data/NJ.csv') -> None:\n",
    "        self.order_by_scheduled_time()\n",
    "        self.drop_columns_and_nan()\n",
    "        self.convert_date_to_day()\n",
    "        \n",
    "    "
   ]
  },
  {
   "cell_type": "code",
   "execution_count": 272,
   "metadata": {},
   "outputs": [],
   "source": [
    "test_df = NJCleaner('2018_03.csv')\n",
    "\n",
    "test_df.order_by_scheduled_time()\n",
    "\n",
    "test_df.drop_columns_and_nan()\n",
    "\n",
    "test_df.convert_date_to_day()\n",
    "\n",
    "test_df.convert_scheduled_time_to_part_of_the_day()\n",
    "\n",
    "test_df.convert_delay()\n",
    "\n",
    "test_df.drop_unnecessary_columns()\n",
    "\n",
    "test_df.save_first_60k('NJ.csv')\n",
    "\n",
    "\n"
   ]
  }
 ],
 "metadata": {
  "kernelspec": {
   "display_name": "Python 3",
   "language": "python",
   "name": "python3"
  },
  "language_info": {
   "codemirror_mode": {
    "name": "ipython",
    "version": 3
   },
   "file_extension": ".py",
   "mimetype": "text/x-python",
   "name": "python",
   "nbconvert_exporter": "python",
   "pygments_lexer": "ipython3",
   "version": "3.10.11"
  },
  "orig_nbformat": 4
 },
 "nbformat": 4,
 "nbformat_minor": 2
}
