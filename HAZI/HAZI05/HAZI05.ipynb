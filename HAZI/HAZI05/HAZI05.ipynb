{
 "cells": [
  {
   "cell_type": "code",
   "execution_count": 28,
   "metadata": {},
   "outputs": [],
   "source": [
    "import numpy as np\n",
    "from typing import Tuple\n",
    "from scipy.stats import mode\n",
    "from sklearn.metrics import confusion_matrix\n",
    "import seaborn as sns\n",
    "import pandas as pd\n",
    "\n",
    "csv_path = \"diabetes.csv\""
   ]
  },
  {
   "cell_type": "code",
   "execution_count": 129,
   "metadata": {},
   "outputs": [],
   "source": [
    "class KNNClassifier:\n",
    "    counter = 0\n",
    "    k: int\n",
    "    test_split_ratio: float\n",
    "    \n",
    "    def __init__(self, k:int, test_split_ratio :float):\n",
    "        KNNClassifier.k = k\n",
    "        KNNClassifier.test_split_ratio = test_split_ratio\n",
    "        KNNClassifier.counter += 1\n",
    "\n",
    "    @staticmethod\n",
    "    def load_csv(csv_path:str)->Tuple[pd.Series, pd.Series]:\n",
    "        dataset= pd.read_csv(csv_path)\n",
    "        dataset = dataset.sample(frac=1, random_state=42)\n",
    "        x,y = dataset.iloc[:,:-1],dataset.iloc[:,-1]\n",
    "        return x,y\n",
    "    \n",
    "    @classmethod\n",
    "    def train_test_split(self, features:pd.DataFrame, labels:pd.DataFrame):\n",
    "        test_size = int(len(features)*  self.test_split_ratio)\n",
    "        train_size = len(features) - test_size\n",
    "        assert len(features) == test_size + train_size, \"Size mismatch!\"\n",
    "\n",
    "        self.x_train, self.y_train = features.iloc[:train_size,:], labels.iloc[:train_size]\n",
    "        self.x_test, self.y_test = features.iloc[train_size:train_size + test_size,:], labels.iloc[train_size:train_size + test_size]\n",
    "    \n",
    "    @classmethod\n",
    "    def euclidean(self, element_of_x:pd.DataFrame) -> pd.Series:\n",
    "        return (((self.x_train - element_of_x) ** 2).sum(axis=1)) ** 1/2\n",
    "    \n",
    "    @classmethod\n",
    "    def predict(self, x_test:pd.DataFrame):\n",
    "        self.y_spreds = []\n",
    "        for index, x_test_element in x_test.iterrows():\n",
    "            distances = self.euclidean(x_test_element)\n",
    "            distances_and_labels = pd.concat([distances, self.y_train], axis=1).sort_values(by=0, ascending=True)\n",
    "            label_pred = distances_and_labels.iloc[:self.k, 1].mode().values[0]\n",
    "            self.y_spreds.append(label_pred)\n",
    "            self.y_spreds = pd.DataFrame(self.y_spreds, columns=['y_pred'], index=x_test.index)\n",
    "            \n",
    "    @classmethod\n",
    "    def accuaracy(self) -> float:\n",
    "        true_positive = (self.y_test == self.y_preds).sum()\n",
    "        return true_positive / len(self.y_test) * 100\n",
    "    \n",
    "    @property\n",
    "    def k_neihbors(self):\n",
    "        return self.k"
   ]
  },
  {
   "cell_type": "code",
   "execution_count": null,
   "metadata": {},
   "outputs": [],
   "source": []
  }
 ],
 "metadata": {
  "kernelspec": {
   "display_name": "Python 3",
   "language": "python",
   "name": "python3"
  },
  "language_info": {
   "codemirror_mode": {
    "name": "ipython",
    "version": 3
   },
   "file_extension": ".py",
   "mimetype": "text/x-python",
   "name": "python",
   "nbconvert_exporter": "python",
   "pygments_lexer": "ipython3",
   "version": "3.10.10"
  },
  "orig_nbformat": 4,
  "vscode": {
   "interpreter": {
    "hash": "93bdebbf21861c658746b3ab85123d54b69f804dd2912b7d45ce569e528cd65b"
   }
  }
 },
 "nbformat": 4,
 "nbformat_minor": 2
}
