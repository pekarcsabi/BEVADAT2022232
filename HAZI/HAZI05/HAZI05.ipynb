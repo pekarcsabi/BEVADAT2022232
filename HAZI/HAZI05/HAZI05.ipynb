{
 "cells": [
  {
   "cell_type": "code",
   "execution_count": 28,
   "metadata": {},
   "outputs": [],
   "source": [
    "import numpy as np\n",
    "from typing import Tuple\n",
    "from scipy.stats import mode\n",
    "from sklearn.metrics import confusion_matrix\n",
    "import seaborn as sns\n",
    "import pandas as pd\n",
    "\n",
    "csv_path = \"diabetes.csv\""
   ]
  },
  {
   "cell_type": "code",
   "execution_count": 74,
   "metadata": {},
   "outputs": [],
   "source": [
    "class KNNClassifier:\n",
    "    k = 0\n",
    "    test_split_ratio = 0\n",
    "    x_train = 0\n",
    "    y_train = 0\n",
    "    x_test = 0\n",
    "    y_test = 0\n",
    "    counter = 0\n",
    "    \n",
    "    def __init__(self, k:int, test_split_ratio :float):\n",
    "        self.k = k\n",
    "        self.test_plit_ratio = test_split_ratio\n",
    "        \n",
    "        KNNClassifier.counter += 1\n",
    "\n",
    "    @staticmethod\n",
    "    def load_csv(csv_path:str)->Tuple[pd.core.frame.DataFrame, pd.core.frame.DataFrame]:\n",
    "        dataset= pd.read_csv(csv_path)\n",
    "        dataset = dataset.sample(frac=1, random_state=42)\n",
    "        x,y = dataset.iloc[:,:-1],dataset.iloc[:,-1]\n",
    "        return x,y\n",
    "    \n",
    "    @classmethod\n",
    "    def train_test_split(self, features:pd.core.frame.DataFrame, labels:pd.core.frame.DataFrame):\n",
    "        test_size = int(len(features)*  self.test_split_ratio)\n",
    "        train_size = len(features) - test_size\n",
    "        assert len(features) == test_size + train_size, \"Size mismatch!\"\n",
    "\n",
    "        self.x_train, self.y_train = features.iloc[:train_size,:], labels.iloc[:train_size]\n",
    "        self.x_test, self.y_test = features.iloc[train_size:train_size + test_size,:], labels.iloc[train_size:train_size + test_size]\n",
    "        return test_size"
   ]
  },
  {
   "cell_type": "code",
   "execution_count": 86,
   "metadata": {},
   "outputs": [
    {
     "ename": "TypeError",
     "evalue": "cannot unpack non-iterable NoneType object",
     "output_type": "error",
     "traceback": [
      "\u001b[1;31m---------------------------------------------------------------------------\u001b[0m",
      "\u001b[1;31mTypeError\u001b[0m                                 Traceback (most recent call last)",
      "Cell \u001b[1;32mIn[86], line 3\u001b[0m\n\u001b[0;32m      1\u001b[0m a \u001b[39m=\u001b[39m KNNClassifier(\u001b[39m3\u001b[39m, \u001b[39m0.2\u001b[39m)\n\u001b[0;32m      2\u001b[0m x, y \u001b[39m=\u001b[39m a\u001b[39m.\u001b[39mload_csv(\u001b[39m\"\u001b[39m\u001b[39mdiabetes.csv\u001b[39m\u001b[39m\"\u001b[39m)\n\u001b[1;32m----> 3\u001b[0m b, c \u001b[39m=\u001b[39m a\u001b[39m.\u001b[39mtrain_test_split(x, y)\n\u001b[0;32m      5\u001b[0m \u001b[39mprint\u001b[39m(np\u001b[39m.\u001b[39mshape(x))\n\u001b[0;32m      6\u001b[0m \u001b[39mprint\u001b[39m(np\u001b[39m.\u001b[39mshape(y))\n",
      "\u001b[1;31mTypeError\u001b[0m: cannot unpack non-iterable NoneType object"
     ]
    }
   ],
   "source": [
    "a = KNNClassifier(3, 0.2)\n",
    "x, y = a.load_csv(\"diabetes.csv\")\n",
    "b = a.train_test_split(x, y)\n",
    "\n",
    "print(np.shape(x))\n",
    "print(np.shape(y))\n",
    "print()\n",
    "print(np.shape(a.x_train))\n",
    "print(np.shape(a.y_train))\n",
    "print(np.shape(a.x_test))\n",
    "print(np.shape(a.y_test))\n"
   ]
  }
 ],
 "metadata": {
  "kernelspec": {
   "display_name": "Python 3",
   "language": "python",
   "name": "python3"
  },
  "language_info": {
   "codemirror_mode": {
    "name": "ipython",
    "version": 3
   },
   "file_extension": ".py",
   "mimetype": "text/x-python",
   "name": "python",
   "nbconvert_exporter": "python",
   "pygments_lexer": "ipython3",
   "version": "3.10.10"
  },
  "orig_nbformat": 4
 },
 "nbformat": 4,
 "nbformat_minor": 2
}
